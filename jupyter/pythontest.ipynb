# Import pandas
import pandas as pd

# Create a pandas Series
data_series = pd.Series([10, 20, 30, 40, 50], name="Numbers")
print("Pandas Series:")
print(data_series)

# Create a pandas DataFrame
data_dict = {
    "Name": ["Alice", "Bob", "Charlie", "David", "Eve"],
    "Age": [25, 30, 35, 40, 28],
    "Occupation": ["Engineer", "Doctor", "Artist", "Lawyer", "Scientist"]
}

dataframe = pd.DataFrame(data_dict)
print("\nPandas DataFrame:")
print(dataframe)

# Perform a basic operation - calculating mean of ages
average_age = dataframe["Age"].mean()
print(f"\nAverage age of the group: {average_age}")
