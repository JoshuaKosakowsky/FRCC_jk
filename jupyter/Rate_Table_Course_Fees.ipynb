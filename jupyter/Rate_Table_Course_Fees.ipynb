{
  "nbformat": 4,
  "nbformat_minor": 0,
  "metadata": {
    "colab": {
      "provenance": []
    },
    "kernelspec": {
      "name": "python3",
      "display_name": "Python 3"
    },
    "language_info": {
      "name": "python"
    }
  },
  "cells": [
    {
      "cell_type": "markdown",
      "source": [
        "# Rate Table Matching\n",
        "## Course Specific Fees for FRCC Courses"
      ],
      "metadata": {
        "id": "K5p4AdkRHFmU"
      }
    },
    {
      "cell_type": "code",
      "source": [
        "import pandas as pd\n",
        "import numpy as np\n",
        "from datetime import datetime\n",
        "import re"
      ],
      "metadata": {
        "id": "YKs6TsSwIhRm"
      },
      "execution_count": 4,
      "outputs": []
    },
    {
      "cell_type": "code",
      "source": [
        "# Get current year\n",
        "current_year = datetime.now().year % 100  # e.g. 2025 → 25\n",
        "\n",
        "FY_OPTIONS = [f\"{(current_year - i) % 100:02d}\" for i in range(4, -3, -1)]\n",
        "\n",
        "# Allowed terms with friendly parsing\n",
        "TERM_OPTIONS = ['SUMMER', 'FALL', 'SPRING']\n",
        "\n",
        "print(\"Select Fiscal Year (FY):\", FY_OPTIONS)\n",
        "FY = input(\"Enter FY (e.g., 26): \").strip()\n",
        "\n",
        "if FY not in FY_OPTIONS:\n",
        "    raise ValueError(f\"Invalid FY. Must be one of {FY_OPTIONS}\")\n",
        "\n",
        "print(\"\\nSelect Term:\", TERM_OPTIONS)\n",
        "Term = input(\"Enter Term (Summer, Fall, Spring): \").strip().upper()\n",
        "\n",
        "if Term not in TERM_OPTIONS:\n",
        "    raise ValueError(f\"Invalid Term. Must be one of {TERM_OPTIONS}\")\n",
        "\n",
        "print(f\"\\nUsing FY={FY}, Term={Term}\")\n"
      ],
      "metadata": {
        "colab": {
          "base_uri": "https://localhost:8080/"
        },
        "id": "44Da6tblI2oV",
        "outputId": "092f6808-b732-4f34-b76f-81c07f3c6d3c"
      },
      "execution_count": 13,
      "outputs": [
        {
          "output_type": "stream",
          "name": "stdout",
          "text": [
            "Select Fiscal Year (FY): ['21', '22', '23', '24', '25', '26', '27']\n",
            "Enter FY (e.g., 26): 26\n",
            "\n",
            "Select Term: ['SUMMER', 'FALL', 'SPRING']\n",
            "Enter Term (Summer, Fall, Spring): fall\n",
            "\n",
            "Using FY=26, Term=FALL\n"
          ]
        }
      ]
    },
    {
      "cell_type": "code",
      "execution_count": 22,
      "metadata": {
        "colab": {
          "base_uri": "https://localhost:8080/"
        },
        "id": "gmHq3AfSG8j0",
        "outputId": "4d742d5e-2d29-4e1f-a0a7-ce6781d028f6"
      },
      "outputs": [
        {
          "output_type": "stream",
          "name": "stdout",
          "text": [
            "Using FY=26, Fee=9.05\n",
            "Digital Content Fee Detail Code: A392\n",
            "All other Detail Codes: A383\n"
          ]
        }
      ],
      "source": [
        "MED_HIGH_RATES = {\n",
        "    '20': 7.85,\n",
        "    '21': 8.05,\n",
        "    '22': 8.25,\n",
        "    '23': 8.45,\n",
        "    '24': 8.65,\n",
        "    '25': 8.85,\n",
        "    '26': 9.05,\n",
        "    '27': 10.50\n",
        "                }\n",
        "\n",
        "\n",
        "FYFeeAmt = MED_HIGH_RATES.get(FY)\n",
        "\n",
        "if FYFeeAmt is None:\n",
        "    raise ValueError(f\"Invalid FY '{FY}'. Must be one of {list(MED_HIGH_RATES.keys())}.\")\n",
        "\n",
        "print(f\"Using FY={FY}, Fee={FYFeeAmt}\")\n",
        "\n",
        "TERM_MAP = {\n",
        "    \"SUMMER\": {\n",
        "        \"Dig_content_fee\": \"A394\",\n",
        "        \"Not_DCF\": \"A385\",\n",
        "        \"Semester\": \"10\"\n",
        "    },\n",
        "    \"FALL\": {\n",
        "        \"Dig_content_fee\": \"A392\",\n",
        "        \"Not_DCF\": \"A383\",\n",
        "        \"Semester\": \"20\"\n",
        "    },\n",
        "    \"SPRING\": {\n",
        "        \"Dig_content_fee\": \"A393\",\n",
        "        \"Not_DCF\": \"A384\",\n",
        "        \"Semester\": \"30\"\n",
        "    }\n",
        "}\n",
        "\n",
        "term_key = Term.strip().upper()\n",
        "if term_key in TERM_MAP:\n",
        "    Dig_content_fee = TERM_MAP[term_key][\"Dig_content_fee\"]\n",
        "    Not_DCF = TERM_MAP[term_key][\"Not_DCF\"]\n",
        "    Semester = TERM_MAP[term_key][\"Semester\"]\n",
        "else:\n",
        "    Dig_content_fee = Not_DCF = Semester = \"Please input a valid term\"\n",
        "\n",
        "print(f\"Digital Content Fee Detail Code: {Dig_content_fee}\\nAll other Detail Codes: {Not_DCF}\")\n"
      ]
    },
    {
      "cell_type": "code",
      "source": [
        "# Function to get the current date for file renaming.\n",
        "def get_current_date():\n",
        "    current_date = datetime.now()\n",
        "    formatted_date = current_date.strftime(\"%m-%d-%y\")\n",
        "    return formatted_date\n",
        "\n",
        "current_date = get_current_date()\n",
        "csv_doc = current_date + '.csv'\n",
        "xlsx_doc = '_' + current_date + '.xlsx'"
      ],
      "metadata": {
        "id": "9bEN3O9bNWN6"
      },
      "execution_count": 23,
      "outputs": []
    },
    {
      "cell_type": "code",
      "source": [],
      "metadata": {
        "id": "YxVLlMbtRwsS"
      },
      "execution_count": null,
      "outputs": []
    }
  ]
}