{
 "cells": [
  {
   "cell_type": "code",
   "execution_count": null,
   "metadata": {},
   "outputs": [],
   "source": [
    "# Import pandas\n",
    "import pandas as pd\n",
    "\n",
    "# Create a pandas Series\n",
    "data_series = pd.Series([10, 20, 30, 40, 50], name=\"Numbers\")\n",
    "print(\"Pandas Series:\")\n",
    "print(data_series)\n",
    "\n",
    "# Create a pandas DataFrame\n",
    "data_dict = {\n",
    "    \"Name\": [\"Alice\", \"Bob\", \"Charlie\", \"David\", \"Eve\"],\n",
    "    \"Age\": [25, 30, 35, 40, 28],\n",
    "    \"Occupation\": [\"Engineer\", \"Doctor\", \"Artist\", \"Lawyer\", \"Scientist\"]\n",
    "}\n",
    "\n",
    "dataframe = pd.DataFrame(data_dict)\n",
    "print(\"\\nPandas DataFrame:\")\n",
    "print(dataframe)\n",
    "\n",
    "# Perform a basic operation - calculating mean of ages\n",
    "average_age = dataframe[\"Age\"].mean()\n",
    "print(f\"\\nAverage age of the group: {average_age}\")\n"
   ]
  }
 ],
 "metadata": {
  "language_info": {
   "name": "python"
  }
 },
 "nbformat": 4,
 "nbformat_minor": 2
}
